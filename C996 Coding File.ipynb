{
 "cells": [
  {
   "cell_type": "code",
   "execution_count": 46,
   "metadata": {},
   "outputs": [],
   "source": [
    "# importing packages\n",
    "import requests\n",
    "from bs4 import BeautifulSoup, SoupStrainer\n",
    "import csv\n",
    "import re\n",
    "from urllib.parse import urljoin"
   ]
  },
  {
   "cell_type": "code",
   "execution_count": 47,
   "metadata": {
    "scrolled": false
   },
   "outputs": [],
   "source": [
    "# request method is used to grab content from the url  \n",
    "url = \"https://www.census.gov/programs-surveys/popest.html\"\n",
    "r = requests.get(url)\n",
    "raw_content = r.text\n",
    "#print(r.text)"
   ]
  },
  {
   "cell_type": "code",
   "execution_count": 48,
   "metadata": {},
   "outputs": [],
   "source": [
    "# using BeautifulSoup to parse the page\n",
    "soup = BeautifulSoup(raw_content, 'html.parser')\n",
    "#print(soup.prettify())"
   ]
  },
  {
   "cell_type": "code",
   "execution_count": 49,
   "metadata": {},
   "outputs": [],
   "source": [
    "# innitializing a list \n",
    "links = list()\n",
    "\n",
    "# gathering all web links pointing to html page and add to a list, also removing duplicates\n",
    "for item in soup.find_all('a', href=re.compile(r'http')):\n",
    "    if item not in links:\n",
    "        links.append(item.get('href'))\n",
    "        \n",
    "#print(links)"
   ]
  },
  {
   "cell_type": "code",
   "execution_count": 50,
   "metadata": {},
   "outputs": [],
   "source": [
    "# saving the relatives links as absolute links if not absolute\n",
    "edited_links = list()\n",
    "\n",
    "for link in links:\n",
    "    if 'https' not in link:\n",
    "        link = 'https://www.census.gov' + link\n",
    "        edited_links.append(link)\n",
    "    else:\n",
    "        edited_links.append(link)\n",
    "        \n",
    "#print(links) "
   ]
  },
  {
   "cell_type": "code",
   "execution_count": 54,
   "metadata": {},
   "outputs": [],
   "source": [
    "# checking if the newly created edited_links list containing any duplicated links\n",
    "final_list = list()\n",
    "for fl in edited_links:\n",
    "    if fl not in final_list:\n",
    "        final_list.append(fl)\n",
    "        \n",
    "#print(final_list)"
   ]
  },
  {
   "cell_type": "code",
   "execution_count": 52,
   "metadata": {},
   "outputs": [],
   "source": [
    "# Outputing data to a csv file names C996.csv\n",
    "with open(\"C996.csv\", \"w\") as f:\n",
    "    wr = csv.writer(f, delimiter =\"\\n\")\n",
    "    wr.writerow(final_list)\n",
    "#print(final_list)"
   ]
  },
  {
   "cell_type": "code",
   "execution_count": null,
   "metadata": {},
   "outputs": [],
   "source": []
  }
 ],
 "metadata": {
  "kernelspec": {
   "display_name": "Python 3",
   "language": "python",
   "name": "python3"
  },
  "language_info": {
   "codemirror_mode": {
    "name": "ipython",
    "version": 3
   },
   "file_extension": ".py",
   "mimetype": "text/x-python",
   "name": "python",
   "nbconvert_exporter": "python",
   "pygments_lexer": "ipython3",
   "version": "3.7.5"
  }
 },
 "nbformat": 4,
 "nbformat_minor": 2
}
